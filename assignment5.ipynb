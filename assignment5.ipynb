{
 "cells": [
  {
   "cell_type": "code",
   "execution_count": 8,
   "id": "16319d87-da70-4105-b8ff-573430b4bdf9",
   "metadata": {},
   "outputs": [
    {
     "name": "stdout",
     "output_type": "stream",
     "text": [
      "Tesla Model S\n",
      "250\n",
      "150\n",
      "Honda CBR500R\n",
      "180\n",
      "100\n"
     ]
    }
   ],
   "source": [
    "#assignment 5\n",
    "#Q1, Create a vehicle class with an init method having instance variables as name_of_vehicle, max_speed\n",
    "#and average_of_vehicle.\n",
    "class Vehicle:\n",
    "    def __init__(self, name_of_vehicle, max_speed, average_of_vehicle):\n",
    "        self.name_of_vehicle = name_of_vehicle\n",
    "        self.max_speed = max_speed\n",
    "        self.average_of_vehicle = average_of_vehicle\n",
    "car = Vehicle(\"Tesla Model S\", 250, 150)\n",
    "print(car.name_of_vehicle)        # Output: Tesla Model S\n",
    "print(car.max_speed)              # Output: 250\n",
    "print(car.average_of_vehicle)     # Output: 150\n",
    "\n",
    "bike = Vehicle(\"Honda CBR500R\", 180, 100)\n",
    "print(bike.name_of_vehicle)       # Output: Honda CBR500R\n",
    "print(bike.max_speed)             # Output: 180\n",
    "print(bike.average_of_vehicle)    # Output: 100\n"
   ]
  },
  {
   "cell_type": "code",
   "execution_count": 9,
   "id": "a9a9bf7e-b58f-4553-9a88-6576970a3034",
   "metadata": {},
   "outputs": [
    {
     "name": "stdout",
     "output_type": "stream",
     "text": [
      "Tesla Model S has a seating capacity of 4 people.\n"
     ]
    }
   ],
   "source": [
    "#q2.Create a child class car from the vehicle class created in Que 1, which will inherit the vehicle class.\n",
    "#Create a method named seating_capacity which takes capacity as an argument and returns the name of\n",
    "#the vehicle and its seating capacity.\n",
    "class Car(Vehicle):\n",
    "    def __init__(self, name_of_vehicle, max_speed, average_of_vehicle):\n",
    "        super().__init__(name_of_vehicle, max_speed, average_of_vehicle)\n",
    "\n",
    "    def seating_capacity(self, capacity):\n",
    "        return f\"{self.name_of_vehicle} has a seating capacity of {capacity} people.\"\n",
    "car = Car(\"Tesla Model S\", 250, 150)\n",
    "print(car.seating_capacity(4))\n",
    "# Output: Tesla Model S has a seating capacity of 4 people.\n",
    "\n"
   ]
  },
  {
   "cell_type": "code",
   "execution_count": 10,
   "id": "a3ac85ca-0e99-4ffc-981d-f9d9872fa51b",
   "metadata": {},
   "outputs": [
    {
     "name": "stdout",
     "output_type": "stream",
     "text": [
      "Parrot is eating.\n",
      "Parrot is chirping.\n",
      "Flying!\n"
     ]
    }
   ],
   "source": [
    "#q3.What is multiple inheritance? Write a python code to demonstrate multiple inheritance.\n",
    "#Multiple inheritance is a feature in object-oriented programming where a class can inherit characteristics and behaviors from more than one parent class. In other words, a class can inherit attributes and methods from multiple base classes.\n",
    "#Here's an example of multiple inheritance in Python:\n",
    "class Animal:\n",
    "    def __init__(self, name):\n",
    "        self.name = name\n",
    "\n",
    "    def eat(self):\n",
    "        print(f\"{self.name} is eating.\")\n",
    "\n",
    "\n",
    "class Flyable:\n",
    "    def fly(self):\n",
    "        print(\"Flying!\")\n",
    "\n",
    "\n",
    "class Bird(Animal, Flyable):\n",
    "    def __init__(self, name):\n",
    "        super().__init__(name)\n",
    "\n",
    "    def chirp(self):\n",
    "        print(f\"{self.name} is chirping.\")\n",
    "\n",
    "\n",
    "parrot = Bird(\"Parrot\")\n",
    "parrot.eat()    # Output: Parrot is eating.\n",
    "parrot.chirp()  # Output: Parrot is chirping.\n",
    "parrot.fly()    # Output: Flying!\n"
   ]
  },
  {
   "cell_type": "code",
   "execution_count": 11,
   "id": "087bcc6b-17e0-4583-9c32-6509cb132b75",
   "metadata": {},
   "outputs": [
    {
     "name": "stdout",
     "output_type": "stream",
     "text": [
      "5\n",
      "10\n",
      "8\n",
      "15\n"
     ]
    }
   ],
   "source": [
    "#Q5.What is method overriding in python? Write a python code to demonstrate method overriding.\n",
    "#Method overriding is a feature in object-oriented programming where a subclass provides its own implementation of a method that is already defined in its superclass. The overridden method in the subclass replaces the implementation of the method in the superclass, allowing the subclass to define its specific behavior.\n",
    "#Here's an example that demonstrates method overriding in Python:\n",
    "class Animal:\n",
    "    def speak(self):\n",
    "        print(\"Animal speaks.\")\n",
    "\n",
    "\n",
    "class Dog(Animal):\n",
    "    def speak(self):\n",
    "        print(\"Dog barks!\")\n",
    "\n",
    "\n",
    "class Cat(Animal):\n",
    "    def speak(self):\n",
    "        print(\"Cat meows.\")\n",
    "\n",
    "\n",
    "animal = Animal()\n",
    "animal.speak()  # Output: Animal speaks.\n",
    "\n",
    "dog = Dog()\n",
    "dog.speak()  # Output: Dog barks!\n",
    "\n",
    "cat = Cat()\n",
    "cat.speak()  # Output: Cat meows.\n"
   ]
  },
  {
   "cell_type": "code",
   "execution_count": 11,
   "id": "db10cd0b",
   "metadata": {},
   "outputs": [
    {
     "name": "stdout",
     "output_type": "stream",
     "text": [
      "5\n",
      "10\n",
      "8\n",
      "15\n"
     ]
    }
   ],
   "source": [
    "#Q5.What is method overriding in python? Write a python code to demonstrate method overriding.\n",
    "#Method overriding is a feature in object-oriented programming where a subclass provides its own implementation of a method that is already defined in its superclass. The overridden method in the subclass replaces the implementation of the method in the superclass, allowing the subclass to define its specific behavior.\n",
    "#Here's an example that demonstrates method overriding in Python:\n",
    "class Animal:\n",
    "    def speak(self):\n",
    "        print(\"Animal speaks.\")\n",
    "\n",
    "\n",
    "class Dog(Animal):\n",
    "    def speak(self):\n",
    "        print(\"Dog barks!\")\n",
    "\n",
    "\n",
    "class Cat(Animal):\n",
    "    def speak(self):\n",
    "        print(\"Cat meows.\")\n",
    "\n",
    "\n",
    "animal = Animal()\n",
    "animal.speak()  # Output: Animal speaks.\n",
    "\n",
    "dog = Dog()\n",
    "dog.speak()  # Output: Dog barks!\n",
    "\n",
    "cat = Cat()\n",
    "cat.speak()  # Output: Cat meows.\n"
   ]
  }
 ],
 "metadata": {
  "kernelspec": {
   "display_name": "Python 3 (ipykernel)",
   "language": "python",
   "name": "python3"
  },
  "language_info": {
   "codemirror_mode": {
    "name": "ipython",
    "version": 3
   },
   "file_extension": ".py",
   "mimetype": "text/x-python",
   "name": "python",
   "nbconvert_exporter": "python",
   "pygments_lexer": "ipython3",
   "version": "3.10.8"
  }
 },
 "nbformat": 4,
 "nbformat_minor": 5
}
